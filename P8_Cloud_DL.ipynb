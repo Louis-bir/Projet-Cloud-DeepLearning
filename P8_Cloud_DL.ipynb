{
 "cells": [
  {
   "cell_type": "markdown",
   "metadata": {},
   "source": [
    "# PROJET : Déployer un modèle de Deep Learning dans le Cloud \n",
    "\n",
    "**Autor** : Louis BIRENHOLZ    \n",
    "**Date** : 15/07/2020  \n",
    "\n",
    "Pour ce projet, nous cherchons à venir en aide à une start-up de l'**AgriTech** voulant développer des solutions innovantes pour la récolte de fruit. Cette solution passe par la création d'une application permettant de classer des fruits en différentes catégories via une photo. Cette application permettrait de sensibiliser le grand public à la biodiversité des fruits et de mettre en place une première version du moteur de classification des images de fruits.\n",
    "\n",
    "**Nous cherchons à anticipier le fait que le volume de données va augmenter très rapidement**, ainsi nous travaillerons via des outils **Big Data** pour se préparer au passage à l'échelle.\n",
    "\n",
    "Ce notebook réalise une partie de preprocessing des données dans un environnement **Big Data** via le package **SparkDL**."
   ]
  },
  {
   "cell_type": "markdown",
   "metadata": {},
   "source": [
    "## Librairies"
   ]
  },
  {
   "cell_type": "code",
   "execution_count": 1,
   "metadata": {},
   "outputs": [],
   "source": [
    "# Classic lib.\n",
    "import os\n",
    "import sys\n",
    "import matplotlib.pyplot as plt\n",
    "import matplotlib.image as mpimg\n",
    "import seaborn as sns\n",
    "import pandas as pd\n",
    "import numpy as np\n",
    "\n",
    "# Spark.\n",
    "import findspark\n",
    "import spark\n",
    "findspark.init()\n",
    "\n",
    "# Pyspark.\n",
    "import pyspark\n",
    "from pyspark import SparkContext, SparkConf\n",
    "from pyspark.sql import SparkSession"
   ]
  },
  {
   "cell_type": "markdown",
   "metadata": {},
   "source": [
    "## Settings & SparkSession."
   ]
  },
  {
   "cell_type": "code",
   "execution_count": 2,
   "metadata": {},
   "outputs": [],
   "source": [
    "os.environ['PYSPARK_SUBMIT_ARGS'] = '--packages com.amazonaws:aws-java-sdk-pom:1.10.34,org.apache.hadoop:hadoop-aws:2.7.2,databricks:spark-deep-learning:1.5.0-spark2.4-s_2.11 pyspark-shell'\n",
    "# SparkSession.\n",
    "spark = SparkSession.builder.master('local[*]').appName('P8').getOrCreate()"
   ]
  },
  {
   "cell_type": "code",
   "execution_count": 3,
   "metadata": {},
   "outputs": [
    {
     "data": {
      "text/html": [
       "\n",
       "            <div>\n",
       "                <p><b>SparkSession - in-memory</b></p>\n",
       "                \n",
       "        <div>\n",
       "            <p><b>SparkContext</b></p>\n",
       "\n",
       "            <p><a href=\"http://ip-172-31-21-216.us-east-2.compute.internal:4040\">Spark UI</a></p>\n",
       "\n",
       "            <dl>\n",
       "              <dt>Version</dt>\n",
       "                <dd><code>v2.4.5</code></dd>\n",
       "              <dt>Master</dt>\n",
       "                <dd><code>local[*]</code></dd>\n",
       "              <dt>AppName</dt>\n",
       "                <dd><code>P8</code></dd>\n",
       "            </dl>\n",
       "        </div>\n",
       "        \n",
       "            </div>\n",
       "        "
      ],
      "text/plain": [
       "<pyspark.sql.session.SparkSession at 0x7f3802c40ed0>"
      ]
     },
     "execution_count": 3,
     "metadata": {},
     "output_type": "execute_result"
    }
   ],
   "source": [
    "spark"
   ]
  },
  {
   "cell_type": "markdown",
   "metadata": {},
   "source": [
    "## Loading Data"
   ]
  },
  {
   "cell_type": "code",
   "execution_count": 4,
   "metadata": {},
   "outputs": [
    {
     "name": "stderr",
     "output_type": "stream",
     "text": [
      "Using TensorFlow backend.\n"
     ]
    }
   ],
   "source": [
    "# OTHER LIBRAIRIES.\n",
    "\n",
    "# ML.\n",
    "from pyspark.ml.image import ImageSchema\n",
    "from pyspark.ml.feature import PCA\n",
    "\n",
    "# DL.\n",
    "from sparkdl import DeepImageFeaturizer\n",
    "\n",
    "# Functions.\n",
    "import pyspark.sql.functions as F\n",
    "from pyspark.sql.types import StringType, ArrayType\n",
    "from pyspark.ml.linalg import Vectors, VectorUDT\n",
    "from pyspark.sql.functions import udf, lit"
   ]
  },
  {
   "cell_type": "markdown",
   "metadata": {},
   "source": [
    "### Load data from S3 bucket\n",
    "\n",
    "Pour des raisons de taille des datasets, cette partie est réalisée sur une partie réduite des données."
   ]
  },
  {
   "cell_type": "code",
   "execution_count": 5,
   "metadata": {},
   "outputs": [
    {
     "name": "stdout",
     "output_type": "stream",
     "text": [
      "root\n",
      " |-- image: struct (nullable = true)\n",
      " |    |-- origin: string (nullable = true)\n",
      " |    |-- height: integer (nullable = false)\n",
      " |    |-- width: integer (nullable = false)\n",
      " |    |-- nChannels: integer (nullable = false)\n",
      " |    |-- mode: integer (nullable = false)\n",
      " |    |-- data: binary (nullable = false)\n",
      "\n"
     ]
    }
   ],
   "source": [
    "# Training reduced is the original training set with less images.\n",
    "path = \"s3a://projet8louis/Training_reduced\"\n",
    "\n",
    "# Read data in a DataFrame.\n",
    "df_training = ImageSchema.readImages(path, recursive=True)\n",
    "\n",
    "# Print the schema.\n",
    "df_training.printSchema()"
   ]
  },
  {
   "cell_type": "code",
   "execution_count": 6,
   "metadata": {},
   "outputs": [
    {
     "data": {
      "text/plain": [
       "135"
      ]
     },
     "execution_count": 6,
     "metadata": {},
     "output_type": "execute_result"
    }
   ],
   "source": [
    "# How many images in the dataset ?\n",
    "df_training.count()"
   ]
  },
  {
   "cell_type": "code",
   "execution_count": 7,
   "metadata": {},
   "outputs": [
    {
     "data": {
      "text/plain": [
       "[Row(height=100, width=100)]"
      ]
     },
     "execution_count": 7,
     "metadata": {},
     "output_type": "execute_result"
    }
   ],
   "source": [
    "# Dimension of images.\n",
    "df_training.select('image.height', 'image.width').take(1)"
   ]
  },
  {
   "cell_type": "code",
   "execution_count": 8,
   "metadata": {},
   "outputs": [
    {
     "name": "stdout",
     "output_type": "stream",
     "text": [
      "+--------------------+\n",
      "|               image|\n",
      "+--------------------+\n",
      "|[s3a://projet8lou...|\n",
      "|[s3a://projet8lou...|\n",
      "|[s3a://projet8lou...|\n",
      "|[s3a://projet8lou...|\n",
      "|[s3a://projet8lou...|\n",
      "+--------------------+\n",
      "only showing top 5 rows\n",
      "\n"
     ]
    }
   ],
   "source": [
    "# Head.\n",
    "df_training.show(5)"
   ]
  },
  {
   "cell_type": "markdown",
   "metadata": {},
   "source": [
    "### Feature Extraction & PCA\n",
    "\n",
    "Extraction des features via **DeepImageFeaturizer** utilisé sur le réseau préentrainé ResNet50. On extrait **2048 features**.\n",
    "\n",
    "On réalise en une réduction dimensionnelle via une **PCA**."
   ]
  },
  {
   "cell_type": "code",
   "execution_count": 9,
   "metadata": {},
   "outputs": [
    {
     "name": "stdout",
     "output_type": "stream",
     "text": [
      "2048\n"
     ]
    }
   ],
   "source": [
    "# Feature extraction with ResNet50.\n",
    "featurizer = DeepImageFeaturizer(inputCol=\"image\", outputCol=\"features\", modelName=\"ResNet50\")\n",
    "\n",
    "# Df with extracted features.\n",
    "df_extract = featurizer.transform(df_training).cache()\n",
    "\n",
    "# Dimension.\n",
    "print(len(df_extract.select('features').take(1)[0][0]))"
   ]
  },
  {
   "cell_type": "code",
   "execution_count": 10,
   "metadata": {},
   "outputs": [
    {
     "name": "stdout",
     "output_type": "stream",
     "text": [
      "12 composantes principales sont nécessaires\n"
     ]
    }
   ],
   "source": [
    "# PCA.\n",
    "pca = PCA(k=2048, inputCol=\"features\", outputCol=\"pca\")\n",
    "model = pca.fit(df_extract)\n",
    "\n",
    "# How many components are necessary to explain 95% of the inertia ?\n",
    "for c,i in enumerate(np.cumsum(model.explainedVariance)):\n",
    "    if i>=0.95:\n",
    "        print('{} composantes principales sont nécessaires'.format(c))\n",
    "        break"
   ]
  },
  {
   "cell_type": "code",
   "execution_count": 10,
   "metadata": {},
   "outputs": [],
   "source": [
    "# PCA à 12 composantes.\n",
    "pca = PCA(k=12, inputCol=\"features\", outputCol=\"pca\")\n",
    "model = pca.fit(df_extract)\n",
    "\n",
    "# Dataframe with principal components\n",
    "df_pca = model.transform(df_extract)"
   ]
  },
  {
   "cell_type": "code",
   "execution_count": 11,
   "metadata": {},
   "outputs": [],
   "source": [
    "def split_path(path):\n",
    "    \n",
    "    \"\"\" Cette fonction permet de trouver le label de l'image dans son path.\"\"\"\n",
    "    \n",
    "    path_split = path.split(os.sep)\n",
    "    return path_split[4]"
   ]
  },
  {
   "cell_type": "code",
   "execution_count": 12,
   "metadata": {},
   "outputs": [],
   "source": [
    "# Création de la udf pour labéliser les images.\n",
    "split_path_udf = udf(lambda z: split_path(z), StringType())\n",
    "\n",
    "# Dataframe with principal component and labels.\n",
    "df_final = df_pca.select('image.origin','pca', split_path_udf('image.origin').alias('label'))"
   ]
  },
  {
   "cell_type": "code",
   "execution_count": 13,
   "metadata": {},
   "outputs": [
    {
     "name": "stdout",
     "output_type": "stream",
     "text": [
      "+--------------------+--------------------+--------------+\n",
      "|              origin|                 pca|         label|\n",
      "+--------------------+--------------------+--------------+\n",
      "|s3a://projet8loui...|[-16.262893200262...|Apple Braeburn|\n",
      "|s3a://projet8loui...|[-16.546459805582...|Apple Braeburn|\n",
      "|s3a://projet8loui...|[-16.402209911536...|Apple Braeburn|\n",
      "|s3a://projet8loui...|[-16.892880706972...|Apple Braeburn|\n",
      "|s3a://projet8loui...|[-16.834413596396...|Apple Braeburn|\n",
      "|s3a://projet8loui...|[-16.408049713471...|Apple Braeburn|\n",
      "|s3a://projet8loui...|[-16.087327103765...|Apple Braeburn|\n",
      "|s3a://projet8loui...|[-17.259288461497...|Apple Braeburn|\n",
      "|s3a://projet8loui...|[-16.678418207681...|Apple Braeburn|\n",
      "|s3a://projet8loui...|[-16.395502838567...|Apple Braeburn|\n",
      "|s3a://projet8loui...|[-16.640781726634...|Apple Braeburn|\n",
      "|s3a://projet8loui...|[-14.619737210615...|Apple Braeburn|\n",
      "|s3a://projet8loui...|[-15.973752392968...|Apple Braeburn|\n",
      "|s3a://projet8loui...|[-16.322170235248...|Apple Braeburn|\n",
      "|s3a://projet8loui...|[-16.271037508856...|Apple Braeburn|\n",
      "|s3a://projet8loui...|[-13.140675415817...|   Apple Red 1|\n",
      "|s3a://projet8loui...|[-15.289659248662...|   Apple Red 1|\n",
      "|s3a://projet8loui...|[-15.266879077533...|   Apple Red 1|\n",
      "|s3a://projet8loui...|[-15.114300403045...|   Apple Red 1|\n",
      "|s3a://projet8loui...|[-15.910337996484...|   Apple Red 1|\n",
      "+--------------------+--------------------+--------------+\n",
      "only showing top 20 rows\n",
      "\n"
     ]
    }
   ],
   "source": [
    "df_final.show()"
   ]
  },
  {
   "cell_type": "markdown",
   "metadata": {},
   "source": [
    "### Exportation des données après preprocessing/PCA au format .parquet"
   ]
  },
  {
   "cell_type": "code",
   "execution_count": 14,
   "metadata": {},
   "outputs": [],
   "source": [
    "# Write on the S3 bucket (au format .parquet).\n",
    "df_final.write.parquet(\"s3a://projet8louis/df_pca_label.parquet\")"
   ]
  },
  {
   "cell_type": "markdown",
   "metadata": {},
   "source": [
    "### Lecture des données stockées sur S3 "
   ]
  },
  {
   "cell_type": "code",
   "execution_count": 6,
   "metadata": {},
   "outputs": [],
   "source": [
    "# Read data\n",
    "path = 's3a://projet8louis/df_pca_label.parquet/part-00000-b531bd24-b68c-4554-945e-1d9964f8e871-c000.snappy.parquet'\n",
    "df_from_S3 = pd.read_parquet(path, engine='fastparquet')\n",
    "\n",
    "# Delete useless columns.\n",
    "del df_from_S3['pca.size']\n",
    "del df_from_S3['pca.indices']"
   ]
  },
  {
   "cell_type": "code",
   "execution_count": 16,
   "metadata": {},
   "outputs": [
    {
     "name": "stdout",
     "output_type": "stream",
     "text": [
      "La dimension du dataframe est : (135, 4)\n",
      "Les labels uniques sont :\n",
      "Apple Braeburn\n",
      "Apple Red 1\n",
      "Apricot\n",
      "Banana\n",
      "Cauliflower\n",
      "Corn\n",
      "Kiwi\n",
      "Nectarine\n",
      "Peach\n"
     ]
    }
   ],
   "source": [
    "print(\"La dimension du dataframe est : {}\".format(df_from_S3.shape))\n",
    "print(\"Les labels uniques sont :\")\n",
    "for i in df_from_S3.label.unique():\n",
    "    print(i)"
   ]
  },
  {
   "cell_type": "code",
   "execution_count": 8,
   "metadata": {},
   "outputs": [
    {
     "data": {
      "text/html": [
       "<div>\n",
       "<style scoped>\n",
       "    .dataframe tbody tr th:only-of-type {\n",
       "        vertical-align: middle;\n",
       "    }\n",
       "\n",
       "    .dataframe tbody tr th {\n",
       "        vertical-align: top;\n",
       "    }\n",
       "\n",
       "    .dataframe thead th {\n",
       "        text-align: right;\n",
       "    }\n",
       "</style>\n",
       "<table border=\"1\" class=\"dataframe\">\n",
       "  <thead>\n",
       "    <tr style=\"text-align: right;\">\n",
       "      <th></th>\n",
       "      <th>origin</th>\n",
       "      <th>label</th>\n",
       "      <th>pca.type</th>\n",
       "      <th>pca.values</th>\n",
       "    </tr>\n",
       "  </thead>\n",
       "  <tbody>\n",
       "    <tr>\n",
       "      <th>0</th>\n",
       "      <td>s3a://projet8louis/Training_reduced/Apple Brae...</td>\n",
       "      <td>Apple Braeburn</td>\n",
       "      <td>1.0</td>\n",
       "      <td>[-16.26289320026262, 0.36708255983012333, -4.4...</td>\n",
       "    </tr>\n",
       "    <tr>\n",
       "      <th>1</th>\n",
       "      <td>s3a://projet8louis/Training_reduced/Apple Brae...</td>\n",
       "      <td>Apple Braeburn</td>\n",
       "      <td>1.0</td>\n",
       "      <td>[-16.546459805582025, -0.9776640009524855, -4....</td>\n",
       "    </tr>\n",
       "    <tr>\n",
       "      <th>2</th>\n",
       "      <td>s3a://projet8louis/Training_reduced/Apple Brae...</td>\n",
       "      <td>Apple Braeburn</td>\n",
       "      <td>1.0</td>\n",
       "      <td>[-16.402209911536417, -1.0792357804785273, -3....</td>\n",
       "    </tr>\n",
       "    <tr>\n",
       "      <th>3</th>\n",
       "      <td>s3a://projet8louis/Training_reduced/Apple Brae...</td>\n",
       "      <td>Apple Braeburn</td>\n",
       "      <td>1.0</td>\n",
       "      <td>[-16.892880706972086, -0.9529154085854423, -3....</td>\n",
       "    </tr>\n",
       "    <tr>\n",
       "      <th>4</th>\n",
       "      <td>s3a://projet8louis/Training_reduced/Apple Brae...</td>\n",
       "      <td>Apple Braeburn</td>\n",
       "      <td>1.0</td>\n",
       "      <td>[-16.83441359639642, -1.0352978724660957, -4.1...</td>\n",
       "    </tr>\n",
       "    <tr>\n",
       "      <th>5</th>\n",
       "      <td>s3a://projet8louis/Training_reduced/Apple Brae...</td>\n",
       "      <td>Apple Braeburn</td>\n",
       "      <td>1.0</td>\n",
       "      <td>[-16.40804971347165, -1.0185130291765203, -3.9...</td>\n",
       "    </tr>\n",
       "    <tr>\n",
       "      <th>6</th>\n",
       "      <td>s3a://projet8louis/Training_reduced/Apple Brae...</td>\n",
       "      <td>Apple Braeburn</td>\n",
       "      <td>1.0</td>\n",
       "      <td>[-16.087327103765027, -1.1945299833525476, -3....</td>\n",
       "    </tr>\n",
       "    <tr>\n",
       "      <th>7</th>\n",
       "      <td>s3a://projet8louis/Training_reduced/Apple Brae...</td>\n",
       "      <td>Apple Braeburn</td>\n",
       "      <td>1.0</td>\n",
       "      <td>[-17.259288461497622, -1.0901764297647694, -4....</td>\n",
       "    </tr>\n",
       "    <tr>\n",
       "      <th>8</th>\n",
       "      <td>s3a://projet8louis/Training_reduced/Apple Brae...</td>\n",
       "      <td>Apple Braeburn</td>\n",
       "      <td>1.0</td>\n",
       "      <td>[-16.67841820768182, -1.1133903000954481, -4.0...</td>\n",
       "    </tr>\n",
       "    <tr>\n",
       "      <th>9</th>\n",
       "      <td>s3a://projet8louis/Training_reduced/Apple Brae...</td>\n",
       "      <td>Apple Braeburn</td>\n",
       "      <td>1.0</td>\n",
       "      <td>[-16.39550283856705, -1.1034178963896029, -3.7...</td>\n",
       "    </tr>\n",
       "    <tr>\n",
       "      <th>10</th>\n",
       "      <td>s3a://projet8louis/Training_reduced/Apple Brae...</td>\n",
       "      <td>Apple Braeburn</td>\n",
       "      <td>1.0</td>\n",
       "      <td>[-16.640781726634934, -1.3824809500075383, -3....</td>\n",
       "    </tr>\n",
       "    <tr>\n",
       "      <th>11</th>\n",
       "      <td>s3a://projet8louis/Training_reduced/Apple Brae...</td>\n",
       "      <td>Apple Braeburn</td>\n",
       "      <td>1.0</td>\n",
       "      <td>[-14.619737210615636, 0.5351203073596112, -3.8...</td>\n",
       "    </tr>\n",
       "    <tr>\n",
       "      <th>12</th>\n",
       "      <td>s3a://projet8louis/Training_reduced/Apple Brae...</td>\n",
       "      <td>Apple Braeburn</td>\n",
       "      <td>1.0</td>\n",
       "      <td>[-15.97375239296813, -1.2374786833175198, -3.7...</td>\n",
       "    </tr>\n",
       "    <tr>\n",
       "      <th>13</th>\n",
       "      <td>s3a://projet8louis/Training_reduced/Apple Brae...</td>\n",
       "      <td>Apple Braeburn</td>\n",
       "      <td>1.0</td>\n",
       "      <td>[-16.322170235248066, -1.3992699193835263, -3....</td>\n",
       "    </tr>\n",
       "    <tr>\n",
       "      <th>14</th>\n",
       "      <td>s3a://projet8louis/Training_reduced/Apple Brae...</td>\n",
       "      <td>Apple Braeburn</td>\n",
       "      <td>1.0</td>\n",
       "      <td>[-16.27103750885654, -0.9573005330645719, -4.1...</td>\n",
       "    </tr>\n",
       "    <tr>\n",
       "      <th>15</th>\n",
       "      <td>s3a://projet8louis/Training_reduced/Apple Red ...</td>\n",
       "      <td>Apple Red 1</td>\n",
       "      <td>1.0</td>\n",
       "      <td>[-13.140675415817999, 4.615360739736628, -4.31...</td>\n",
       "    </tr>\n",
       "    <tr>\n",
       "      <th>16</th>\n",
       "      <td>s3a://projet8louis/Training_reduced/Apple Red ...</td>\n",
       "      <td>Apple Red 1</td>\n",
       "      <td>1.0</td>\n",
       "      <td>[-15.289659248662247, 3.5466632479974014, -3.8...</td>\n",
       "    </tr>\n",
       "    <tr>\n",
       "      <th>17</th>\n",
       "      <td>s3a://projet8louis/Training_reduced/Apple Red ...</td>\n",
       "      <td>Apple Red 1</td>\n",
       "      <td>1.0</td>\n",
       "      <td>[-15.266879077533597, 3.232838146072171, -3.60...</td>\n",
       "    </tr>\n",
       "    <tr>\n",
       "      <th>18</th>\n",
       "      <td>s3a://projet8louis/Training_reduced/Apple Red ...</td>\n",
       "      <td>Apple Red 1</td>\n",
       "      <td>1.0</td>\n",
       "      <td>[-15.114300403045332, 3.249056647493726, -3.58...</td>\n",
       "    </tr>\n",
       "    <tr>\n",
       "      <th>19</th>\n",
       "      <td>s3a://projet8louis/Training_reduced/Apple Red ...</td>\n",
       "      <td>Apple Red 1</td>\n",
       "      <td>1.0</td>\n",
       "      <td>[-15.91033799648408, 2.9764971071586768, -3.64...</td>\n",
       "    </tr>\n",
       "  </tbody>\n",
       "</table>\n",
       "</div>"
      ],
      "text/plain": [
       "                                               origin           label  \\\n",
       "0   s3a://projet8louis/Training_reduced/Apple Brae...  Apple Braeburn   \n",
       "1   s3a://projet8louis/Training_reduced/Apple Brae...  Apple Braeburn   \n",
       "2   s3a://projet8louis/Training_reduced/Apple Brae...  Apple Braeburn   \n",
       "3   s3a://projet8louis/Training_reduced/Apple Brae...  Apple Braeburn   \n",
       "4   s3a://projet8louis/Training_reduced/Apple Brae...  Apple Braeburn   \n",
       "5   s3a://projet8louis/Training_reduced/Apple Brae...  Apple Braeburn   \n",
       "6   s3a://projet8louis/Training_reduced/Apple Brae...  Apple Braeburn   \n",
       "7   s3a://projet8louis/Training_reduced/Apple Brae...  Apple Braeburn   \n",
       "8   s3a://projet8louis/Training_reduced/Apple Brae...  Apple Braeburn   \n",
       "9   s3a://projet8louis/Training_reduced/Apple Brae...  Apple Braeburn   \n",
       "10  s3a://projet8louis/Training_reduced/Apple Brae...  Apple Braeburn   \n",
       "11  s3a://projet8louis/Training_reduced/Apple Brae...  Apple Braeburn   \n",
       "12  s3a://projet8louis/Training_reduced/Apple Brae...  Apple Braeburn   \n",
       "13  s3a://projet8louis/Training_reduced/Apple Brae...  Apple Braeburn   \n",
       "14  s3a://projet8louis/Training_reduced/Apple Brae...  Apple Braeburn   \n",
       "15  s3a://projet8louis/Training_reduced/Apple Red ...     Apple Red 1   \n",
       "16  s3a://projet8louis/Training_reduced/Apple Red ...     Apple Red 1   \n",
       "17  s3a://projet8louis/Training_reduced/Apple Red ...     Apple Red 1   \n",
       "18  s3a://projet8louis/Training_reduced/Apple Red ...     Apple Red 1   \n",
       "19  s3a://projet8louis/Training_reduced/Apple Red ...     Apple Red 1   \n",
       "\n",
       "    pca.type                                         pca.values  \n",
       "0        1.0  [-16.26289320026262, 0.36708255983012333, -4.4...  \n",
       "1        1.0  [-16.546459805582025, -0.9776640009524855, -4....  \n",
       "2        1.0  [-16.402209911536417, -1.0792357804785273, -3....  \n",
       "3        1.0  [-16.892880706972086, -0.9529154085854423, -3....  \n",
       "4        1.0  [-16.83441359639642, -1.0352978724660957, -4.1...  \n",
       "5        1.0  [-16.40804971347165, -1.0185130291765203, -3.9...  \n",
       "6        1.0  [-16.087327103765027, -1.1945299833525476, -3....  \n",
       "7        1.0  [-17.259288461497622, -1.0901764297647694, -4....  \n",
       "8        1.0  [-16.67841820768182, -1.1133903000954481, -4.0...  \n",
       "9        1.0  [-16.39550283856705, -1.1034178963896029, -3.7...  \n",
       "10       1.0  [-16.640781726634934, -1.3824809500075383, -3....  \n",
       "11       1.0  [-14.619737210615636, 0.5351203073596112, -3.8...  \n",
       "12       1.0  [-15.97375239296813, -1.2374786833175198, -3.7...  \n",
       "13       1.0  [-16.322170235248066, -1.3992699193835263, -3....  \n",
       "14       1.0  [-16.27103750885654, -0.9573005330645719, -4.1...  \n",
       "15       1.0  [-13.140675415817999, 4.615360739736628, -4.31...  \n",
       "16       1.0  [-15.289659248662247, 3.5466632479974014, -3.8...  \n",
       "17       1.0  [-15.266879077533597, 3.232838146072171, -3.60...  \n",
       "18       1.0  [-15.114300403045332, 3.249056647493726, -3.58...  \n",
       "19       1.0  [-15.91033799648408, 2.9764971071586768, -3.64...  "
      ]
     },
     "execution_count": 8,
     "metadata": {},
     "output_type": "execute_result"
    }
   ],
   "source": [
    "# Show.\n",
    "df_from_S3.head(20)"
   ]
  }
 ],
 "metadata": {
  "kernelspec": {
   "display_name": "Python 3",
   "language": "python",
   "name": "python3"
  },
  "language_info": {
   "codemirror_mode": {
    "name": "ipython",
    "version": 3
   },
   "file_extension": ".py",
   "mimetype": "text/x-python",
   "name": "python",
   "nbconvert_exporter": "python",
   "pygments_lexer": "ipython3",
   "version": "3.8.3"
  }
 },
 "nbformat": 4,
 "nbformat_minor": 4
}
